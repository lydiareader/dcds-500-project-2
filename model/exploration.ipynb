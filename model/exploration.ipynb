{
 "cells": [
  {
   "cell_type": "code",
   "execution_count": 1,
   "metadata": {},
   "outputs": [],
   "source": [
    "from shopping_environment import ShoppingEnvironment\n",
    "import pandas as pd\n",
    "from mechanisms import run_lottery_no_gaming, run_first_come_no_gaming"
   ]
  },
  {
   "cell_type": "markdown",
   "metadata": {},
   "source": [
    "## Setup Environment"
   ]
  },
  {
   "cell_type": "code",
   "execution_count": 2,
   "metadata": {},
   "outputs": [
    {
     "ename": "AttributeError",
     "evalue": "'ShoppingEnvironment' object has no attribute 'num_average'",
     "output_type": "error",
     "traceback": [
      "\u001b[0;31m---------------------------------------------------------------------------\u001b[0m",
      "\u001b[0;31mAttributeError\u001b[0m                            Traceback (most recent call last)",
      "\u001b[1;32m/Users/lydiareader/git/dcds-500-project-2/model/exploration.ipynb Cell 3'\u001b[0m in \u001b[0;36m<cell line: 13>\u001b[0;34m()\u001b[0m\n\u001b[1;32m     <a href='vscode-notebook-cell:/Users/lydiareader/git/dcds-500-project-2/model/exploration.ipynb#ch0000000?line=9'>10</a>\u001b[0m num_resellers   \u001b[39m=\u001b[39m \u001b[39m25\u001b[39m\n\u001b[1;32m     <a href='vscode-notebook-cell:/Users/lydiareader/git/dcds-500-project-2/model/exploration.ipynb#ch0000000?line=11'>12</a>\u001b[0m \u001b[39m# initialize environment\u001b[39;00m\n\u001b[0;32m---> <a href='vscode-notebook-cell:/Users/lydiareader/git/dcds-500-project-2/model/exploration.ipynb#ch0000000?line=12'>13</a>\u001b[0m env \u001b[39m=\u001b[39m ShoppingEnvironment(\n\u001b[1;32m     <a href='vscode-notebook-cell:/Users/lydiareader/git/dcds-500-project-2/model/exploration.ipynb#ch0000000?line=13'>14</a>\u001b[0m     mean_desire \u001b[39m=\u001b[39;49m \u001b[39m0.5\u001b[39;49m,\n\u001b[1;32m     <a href='vscode-notebook-cell:/Users/lydiareader/git/dcds-500-project-2/model/exploration.ipynb#ch0000000?line=14'>15</a>\u001b[0m     std_desire \u001b[39m=\u001b[39;49m \u001b[39m0.2\u001b[39;49m,\n\u001b[1;32m     <a href='vscode-notebook-cell:/Users/lydiareader/git/dcds-500-project-2/model/exploration.ipynb#ch0000000?line=15'>16</a>\u001b[0m     desire_threshold \u001b[39m=\u001b[39;49m \u001b[39m0.7\u001b[39;49m,\n\u001b[1;32m     <a href='vscode-notebook-cell:/Users/lydiareader/git/dcds-500-project-2/model/exploration.ipynb#ch0000000?line=16'>17</a>\u001b[0m     average_mean_money \u001b[39m=\u001b[39;49m \u001b[39m250\u001b[39;49m,\n\u001b[1;32m     <a href='vscode-notebook-cell:/Users/lydiareader/git/dcds-500-project-2/model/exploration.ipynb#ch0000000?line=17'>18</a>\u001b[0m     average_std_money \u001b[39m=\u001b[39;49m \u001b[39m15\u001b[39;49m,\n\u001b[1;32m     <a href='vscode-notebook-cell:/Users/lydiareader/git/dcds-500-project-2/model/exploration.ipynb#ch0000000?line=18'>19</a>\u001b[0m     rich_mean_money \u001b[39m=\u001b[39;49m \u001b[39m1000\u001b[39;49m,\n\u001b[1;32m     <a href='vscode-notebook-cell:/Users/lydiareader/git/dcds-500-project-2/model/exploration.ipynb#ch0000000?line=19'>20</a>\u001b[0m     rich_std_money \u001b[39m=\u001b[39;49m \u001b[39m250\u001b[39;49m,\n\u001b[1;32m     <a href='vscode-notebook-cell:/Users/lydiareader/git/dcds-500-project-2/model/exploration.ipynb#ch0000000?line=20'>21</a>\u001b[0m     average_prob_loyal \u001b[39m=\u001b[39;49m \u001b[39m0.5\u001b[39;49m,\n\u001b[1;32m     <a href='vscode-notebook-cell:/Users/lydiareader/git/dcds-500-project-2/model/exploration.ipynb#ch0000000?line=21'>22</a>\u001b[0m     rich_prob_loyal \u001b[39m=\u001b[39;49m \u001b[39m0.8\u001b[39;49m,\n\u001b[1;32m     <a href='vscode-notebook-cell:/Users/lydiareader/git/dcds-500-project-2/model/exploration.ipynb#ch0000000?line=22'>23</a>\u001b[0m     reseller_prob_loyal \u001b[39m=\u001b[39;49m \u001b[39m0.9\u001b[39;49m,\n\u001b[1;32m     <a href='vscode-notebook-cell:/Users/lydiareader/git/dcds-500-project-2/model/exploration.ipynb#ch0000000?line=23'>24</a>\u001b[0m     num_shoes \u001b[39m=\u001b[39;49m num_shoes,\n\u001b[1;32m     <a href='vscode-notebook-cell:/Users/lydiareader/git/dcds-500-project-2/model/exploration.ipynb#ch0000000?line=24'>25</a>\u001b[0m     price \u001b[39m=\u001b[39;49m \u001b[39m250\u001b[39;49m\n\u001b[1;32m     <a href='vscode-notebook-cell:/Users/lydiareader/git/dcds-500-project-2/model/exploration.ipynb#ch0000000?line=25'>26</a>\u001b[0m )\n",
      "File \u001b[0;32m~/git/dcds-500-project-2/model/shopping_environment.py:22\u001b[0m, in \u001b[0;36mShoppingEnvironment.__init__\u001b[0;34m(self, mean_desire, std_desire, desire_threshold, average_mean_money, average_std_money, rich_mean_money, rich_std_money, average_prob_loyal, rich_prob_loyal, reseller_prob_loyal, num_shoes, price)\u001b[0m\n\u001b[1;32m     <a href='file:///Users/lydiareader/git/dcds-500-project-2/model/shopping_environment.py?line=18'>19</a>\u001b[0m \u001b[39mself\u001b[39m\u001b[39m.\u001b[39mprice                  \u001b[39m=\u001b[39m price\n\u001b[1;32m     <a href='file:///Users/lydiareader/git/dcds-500-project-2/model/shopping_environment.py?line=20'>21</a>\u001b[0m \u001b[39m# consumer types\u001b[39;00m\n\u001b[0;32m---> <a href='file:///Users/lydiareader/git/dcds-500-project-2/model/shopping_environment.py?line=21'>22</a>\u001b[0m \u001b[39mself\u001b[39m\u001b[39m.\u001b[39maverage_consumers    \u001b[39m=\u001b[39m [consumer\u001b[39m.\u001b[39mAverageConsumer(\u001b[39mself\u001b[39m) \u001b[39mfor\u001b[39;00m _ \u001b[39min\u001b[39;00m \u001b[39mrange\u001b[39m(\u001b[39mself\u001b[39;49m\u001b[39m.\u001b[39;49mnum_average)]\n\u001b[1;32m     <a href='file:///Users/lydiareader/git/dcds-500-project-2/model/shopping_environment.py?line=22'>23</a>\u001b[0m \u001b[39mself\u001b[39m\u001b[39m.\u001b[39mabnormal_consumers   \u001b[39m=\u001b[39m [consumer\u001b[39m.\u001b[39mAbnormalConsumer(\u001b[39mself\u001b[39m) \u001b[39mfor\u001b[39;00m _ \u001b[39min\u001b[39;00m \u001b[39mrange\u001b[39m(\u001b[39mself\u001b[39m\u001b[39m.\u001b[39mnum_abnormal)]\n\u001b[1;32m     <a href='file:///Users/lydiareader/git/dcds-500-project-2/model/shopping_environment.py?line=23'>24</a>\u001b[0m \u001b[39mself\u001b[39m\u001b[39m.\u001b[39mspecial_consumers    \u001b[39m=\u001b[39m [consumer\u001b[39m.\u001b[39mSpecialConsumer(\u001b[39mself\u001b[39m) \u001b[39mfor\u001b[39;00m _ \u001b[39min\u001b[39;00m \u001b[39mrange\u001b[39m(\u001b[39mself\u001b[39m\u001b[39m.\u001b[39mnum_special)]\n",
      "\u001b[0;31mAttributeError\u001b[0m: 'ShoppingEnvironment' object has no attribute 'num_average'"
     ]
    }
   ],
   "source": [
    "# parameters\n",
    "num_shoes        = 100\n",
    "\n",
    "# number of each consumer type\n",
    "num_average     = 900\n",
    "num_abnormal    = 100\n",
    "num_special     = 25\n",
    "num_wealthy     = 100\n",
    "num_influencers = 50\n",
    "num_resellers   = 25\n",
    "\n",
    "# initialize environment\n",
    "env = ShoppingEnvironment(\n",
    "    mean_desire = 0.5,\n",
    "    std_desire = 0.2,\n",
    "    desire_threshold = 0.7,\n",
    "    average_mean_money = 250,\n",
    "    average_std_money = 15,\n",
    "    rich_mean_money = 1000,\n",
    "    rich_std_money = 250,\n",
    "    average_prob_loyal = 0.5,\n",
    "    rich_prob_loyal = 0.8,\n",
    "    reseller_prob_loyal = 0.9,\n",
    "    num_shoes = num_shoes,\n",
    "    price = 250,\n",
    "    num_average = num_average,\n",
    "    num_abnormal = num_abnormal,\n",
    "    num_special = num_special,\n",
    "    num_wealthy = num_wealthy,\n",
    "    num_influencers = num_influencers,\n",
    "    num_resellers = num_resellers\n",
    ")\n",
    "\n",
    "# # create consumers\n",
    "# average_consumers    = [consumer.AverageConsumer(env) for _ in range(num_average)]\n",
    "# abnormal_consumers   = [consumer.AbnormalConsumer(env) for _ in range(num_abnormal)]\n",
    "# special_consumers    = [consumer.SpecialConsumer(env) for _ in range(num_special)]\n",
    "# wealthy_consumers    = [consumer.WealthyConsumer(env) for _ in range(num_wealthy)]\n",
    "# influencer_consumers = [consumer.InfluencerConsumer(env) for _ in range(num_influencers)]\n",
    "# reseller_consumers   = [consumer.ResellerConsumer(env) for _ in range(num_resellers)]\n",
    "\n",
    "# env.consumers = average_consumers + abnormal_consumers + special_consumers + wealthy_consumers + influencer_consumers + reseller_consumers"
   ]
  },
  {
   "cell_type": "markdown",
   "metadata": {},
   "source": [
    "### Run Lottery"
   ]
  },
  {
   "cell_type": "code",
   "execution_count": null,
   "metadata": {},
   "outputs": [],
   "source": [
    "df = run_lottery_no_gaming(env.consumers)\n",
    "got_shoes = df[df['shoes_acquired'] >= 1]\n",
    "got_shoes['desire'].mean()"
   ]
  },
  {
   "cell_type": "code",
   "execution_count": null,
   "metadata": {},
   "outputs": [],
   "source": [
    "env.restock(num_shoes = 100)"
   ]
  },
  {
   "cell_type": "code",
   "execution_count": null,
   "metadata": {},
   "outputs": [],
   "source": [
    "df = run_first_come_no_gaming(env.consumers)\n",
    "got_shoes = df[df['shoes_acquired'] >= 1]\n",
    "got_shoes['desire'].mean()"
   ]
  },
  {
   "cell_type": "code",
   "execution_count": null,
   "metadata": {},
   "outputs": [],
   "source": []
  }
 ],
 "metadata": {
  "interpreter": {
   "hash": "c95010c0e5c171f3e5e09fa076e7f36c98e4d445f827275ff8a77a98834e383e"
  },
  "kernelspec": {
   "display_name": "Python 3.10.2 ('.venv': poetry)",
   "language": "python",
   "name": "python3"
  },
  "language_info": {
   "codemirror_mode": {
    "name": "ipython",
    "version": 3
   },
   "file_extension": ".py",
   "mimetype": "text/x-python",
   "name": "python",
   "nbconvert_exporter": "python",
   "pygments_lexer": "ipython3",
   "version": "3.10.2"
  },
  "orig_nbformat": 4
 },
 "nbformat": 4,
 "nbformat_minor": 2
}
