{
 "cells": [
  {
   "cell_type": "code",
   "execution_count": 1,
   "metadata": {},
   "outputs": [],
   "source": [
    "from shopping_environment import ShoppingEnvironment"
   ]
  },
  {
   "cell_type": "markdown",
   "metadata": {},
   "source": [
    "## Setup Environment"
   ]
  },
  {
   "cell_type": "code",
   "execution_count": 2,
   "metadata": {},
   "outputs": [],
   "source": [
    "# parameters\n",
    "num_shoes        = 100\n",
    "\n",
    "# number of each consumer type\n",
    "num_average     = 900\n",
    "num_abnormal    = 100\n",
    "num_special     = 25\n",
    "num_wealthy     = 100\n",
    "num_influencers = 50\n",
    "num_resellers   = 25\n",
    "\n",
    "# initialize environment\n",
    "env = ShoppingEnvironment(\n",
    "    mean_desire = 0.5,\n",
    "    std_desire = 0.2,\n",
    "    desire_threshold = 0.7,\n",
    "    average_mean_money = 250,\n",
    "    average_std_money = 15,\n",
    "    rich_mean_money = 1000,\n",
    "    rich_std_money = 250,\n",
    "    average_prob_loyal = 0.5,\n",
    "    rich_prob_loyal = 0.8,\n",
    "    reseller_prob_loyal = 0.9,\n",
    "    num_shoes = num_shoes,\n",
    "    price = 250,\n",
    "    num_average = num_average,\n",
    "    num_abnormal = num_abnormal,\n",
    "    num_special = num_special,\n",
    "    num_wealthy = num_wealthy,\n",
    "    num_influencers = num_influencers,\n",
    "    num_resellers = num_resellers\n",
    ")"
   ]
  },
  {
   "cell_type": "markdown",
   "metadata": {},
   "source": [
    "### Run Lottery"
   ]
  },
  {
   "cell_type": "code",
   "execution_count": 3,
   "metadata": {},
   "outputs": [
    {
     "data": {
      "text/plain": [
       "0.480750274332349"
      ]
     },
     "execution_count": 3,
     "metadata": {},
     "output_type": "execute_result"
    }
   ],
   "source": [
    "env.run_lottery_no_gaming()\n",
    "df = env.get_consumer_df()\n",
    "got_shoes = df[df['shoes_acquired'] >= 1]\n",
    "got_shoes['desire'].mean()"
   ]
  },
  {
   "cell_type": "code",
   "execution_count": 4,
   "metadata": {},
   "outputs": [
    {
     "data": {
      "text/plain": [
       "0.8879547930223519"
      ]
     },
     "execution_count": 4,
     "metadata": {},
     "output_type": "execute_result"
    }
   ],
   "source": [
    "env.restock(num_shoes = 100)\n",
    "env.run_first_come_no_gaming()\n",
    "df = env.get_consumer_df()\n",
    "got_shoes = df[df['shoes_acquired'] >= 1]\n",
    "got_shoes['desire'].mean()"
   ]
  },
  {
   "cell_type": "code",
   "execution_count": 5,
   "metadata": {},
   "outputs": [
    {
     "data": {
      "text/plain": [
       "0.4970509739333943"
      ]
     },
     "execution_count": 5,
     "metadata": {},
     "output_type": "execute_result"
    }
   ],
   "source": [
    "env.restock(num_shoes = 100)\n",
    "env.run_invitation_no_gaming()\n",
    "df = env.get_consumer_df()\n",
    "got_shoes = df[df['shoes_acquired'] >= 1]\n",
    "got_shoes['desire'].mean()\n"
   ]
  }
 ],
 "metadata": {
  "interpreter": {
   "hash": "c95010c0e5c171f3e5e09fa076e7f36c98e4d445f827275ff8a77a98834e383e"
  },
  "kernelspec": {
   "display_name": "Python 3.10.2 ('.venv': poetry)",
   "language": "python",
   "name": "python3"
  },
  "language_info": {
   "codemirror_mode": {
    "name": "ipython",
    "version": 3
   },
   "file_extension": ".py",
   "mimetype": "text/x-python",
   "name": "python",
   "nbconvert_exporter": "python",
   "pygments_lexer": "ipython3",
   "version": "3.10.2"
  },
  "orig_nbformat": 4
 },
 "nbformat": 4,
 "nbformat_minor": 2
}
