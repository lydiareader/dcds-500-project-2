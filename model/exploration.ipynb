{
 "cells": [
  {
   "cell_type": "code",
   "execution_count": 2,
   "metadata": {},
   "outputs": [
    {
     "name": "stdout",
     "output_type": "stream",
     "text": [
      "/Users/lydiareader/git/dcds-500-project-2\n"
     ]
    },
    {
     "data": {
      "text/plain": [
       "'/Users/lydiareader/git/dcds-500-project-2'"
      ]
     },
     "execution_count": 2,
     "metadata": {},
     "output_type": "execute_result"
    }
   ],
   "source": [
    "# make sure working directory is root of repository\n",
    "%cd ..\n",
    "%pwd"
   ]
  },
  {
   "cell_type": "code",
   "execution_count": 3,
   "metadata": {},
   "outputs": [],
   "source": [
    "from shopping_environment import ShoppingEnvironment\n",
    "from math import floor"
   ]
  },
  {
   "cell_type": "markdown",
   "metadata": {},
   "source": [
    "## Setup Environment"
   ]
  },
  {
   "cell_type": "code",
   "execution_count": 4,
   "metadata": {},
   "outputs": [],
   "source": [
    "# parameters\n",
    "num_shoes        = 100\n",
    "\n",
    "# number of each consumer type\n",
    "num_average     = 900\n",
    "num_abnormal    = 100\n",
    "num_special     = 25\n",
    "num_wealthy     = 100\n",
    "num_influencers = 50\n",
    "num_resellers   = 25\n",
    "num_total       = num_average + num_abnormal + num_special + num_wealthy + num_influencers + num_resellers\n",
    "\n",
    "# initialize environment\n",
    "env = ShoppingEnvironment(\n",
    "    mean_desire = 0.5,\n",
    "    std_desire = 0.2,\n",
    "    desire_threshold = 0.7,\n",
    "    average_mean_money = 250,\n",
    "    average_std_money = 15,\n",
    "    rich_mean_money = 1000,\n",
    "    rich_std_money = 250,\n",
    "    average_prob_loyal = 0.5,\n",
    "    rich_prob_loyal = 0.8,\n",
    "    reseller_prob_loyal = 0.9,\n",
    "    num_shoes = num_shoes,\n",
    "    price = 250,\n",
    "    num_average = num_average,\n",
    "    num_abnormal = num_abnormal,\n",
    "    num_special = num_special,\n",
    "    num_wealthy = num_wealthy,\n",
    "    num_influencers = num_influencers,\n",
    "    num_resellers = num_resellers\n",
    ")"
   ]
  },
  {
   "cell_type": "code",
   "execution_count": 5,
   "metadata": {},
   "outputs": [],
   "source": [
    "def get_utilities(df):\n",
    "    # buyer and seller utility for each simulation\n",
    "    got_shoes = df[df['shoes_acquired'] >= 1]\n",
    "    print(\"Consumer utility: \", got_shoes['desire'].mean())     # buyer utility is average desire of those who purchased shoes\n",
    "    print(\"Seller utility: \", got_shoes['influence'].mean())    # seller utility is average influence of those who purchased shoes \n",
    "\n",
    "\n",
    "def group_fairness(df):\n",
    "    # Difference in number of shoes purchased by group and expected number of shoes group should get\n",
    "    amount_con_types = {\n",
    "        'average': num_average,\n",
    "        'abnormal': num_abnormal,\n",
    "        'special': num_special,\n",
    "        'wealthy': num_wealthy,\n",
    "        'influencer': num_influencers,\n",
    "        'reseller': num_resellers\n",
    "    }\n",
    "    for con, amount in amount_con_types.items():\n",
    "        print(f'{con} difference in actual and expected: ', df.loc[df['identity'] == con, 'shoes_acquired'].sum() - floor(amount * num_shoes / num_total))"
   ]
  },
  {
   "cell_type": "markdown",
   "metadata": {},
   "source": [
    "## No Gaming"
   ]
  },
  {
   "cell_type": "markdown",
   "metadata": {},
   "source": [
    "### Lottery\n",
    "Every consumer has an equal chance of being selected to purchase shoes"
   ]
  },
  {
   "cell_type": "code",
   "execution_count": 6,
   "metadata": {},
   "outputs": [
    {
     "name": "stdout",
     "output_type": "stream",
     "text": [
      "Consumer utility:  0.47250076455296797\n",
      "Seller utility:  0.09333333333333334\n",
      "average difference in actual and expected:  0\n",
      "abnormal difference in actual and expected:  -3\n",
      "special difference in actual and expected:  2\n",
      "wealthy difference in actual and expected:  0\n",
      "influencer difference in actual and expected:  0\n",
      "reseller difference in actual and expected:  2\n"
     ]
    }
   ],
   "source": [
    "env.restock(100)\n",
    "env.run_lottery_no_gaming()  # run lottery and get dataframe of all results\n",
    "df = env.get_consumer_df()\n",
    "get_utilities(df)\n",
    "group_fairness(df)"
   ]
  },
  {
   "cell_type": "markdown",
   "metadata": {},
   "source": [
    "### First Come First Served\n",
    "With no gaming, those with highest desire \"come first\", and so those with the most desire get the sheos"
   ]
  },
  {
   "cell_type": "code",
   "execution_count": 7,
   "metadata": {},
   "outputs": [
    {
     "name": "stdout",
     "output_type": "stream",
     "text": [
      "Consumer utility:  0.8761371498568774\n",
      "Seller utility:  0.09090909090909091\n",
      "average difference in actual and expected:  4\n",
      "abnormal difference in actual and expected:  -1\n",
      "special difference in actual and expected:  0\n",
      "wealthy difference in actual and expected:  1\n",
      "influencer difference in actual and expected:  -1\n",
      "reseller difference in actual and expected:  -2\n"
     ]
    }
   ],
   "source": [
    "env.restock(num_shoes = 100)        # reset environment to 100 shoes with no one purchased yet\n",
    "env.run_first_come_no_gaming()\n",
    "df = env.get_consumer_df()\n",
    "get_utilities(df)\n",
    "group_fairness(df)"
   ]
  },
  {
   "cell_type": "markdown",
   "metadata": {},
   "source": [
    "### Invitation Only\n",
    "All influencers are invited, and the rest of the spots are randomly selected from those with loyalty status"
   ]
  },
  {
   "cell_type": "code",
   "execution_count": 8,
   "metadata": {},
   "outputs": [
    {
     "name": "stdout",
     "output_type": "stream",
     "text": [
      "Consumer utility:  0.5129867364855615\n",
      "Seller utility:  0.6933333333333334\n",
      "average difference in actual and expected:  -50\n",
      "abnormal difference in actual and expected:  -6\n",
      "special difference in actual and expected:  2\n",
      "wealthy difference in actual and expected:  -4\n",
      "influencer difference in actual and expected:  61\n",
      "reseller difference in actual and expected:  -2\n"
     ]
    }
   ],
   "source": [
    "env.restock(num_shoes = 100)\n",
    "env.run_invitation_no_gaming()\n",
    "df = env.get_consumer_df()\n",
    "get_utilities(df)\n",
    "group_fairness(df)"
   ]
  }
 ],
 "metadata": {
  "interpreter": {
   "hash": "c95010c0e5c171f3e5e09fa076e7f36c98e4d445f827275ff8a77a98834e383e"
  },
  "kernelspec": {
   "display_name": "Python 3.10.2 ('.venv': poetry)",
   "language": "python",
   "name": "python3"
  },
  "language_info": {
   "codemirror_mode": {
    "name": "ipython",
    "version": 3
   },
   "file_extension": ".py",
   "mimetype": "text/x-python",
   "name": "python",
   "nbconvert_exporter": "python",
   "pygments_lexer": "ipython3",
   "version": "3.10.2"
  },
  "orig_nbformat": 4
 },
 "nbformat": 4,
 "nbformat_minor": 2
}
