{
 "cells": [
  {
   "cell_type": "code",
   "execution_count": 2,
   "metadata": {},
   "outputs": [
    {
     "name": "stdout",
     "output_type": "stream",
     "text": [
      "/Users/lydiareader/git/dcds-500-project-2\n"
     ]
    },
    {
     "data": {
      "text/plain": [
       "'/Users/lydiareader/git/dcds-500-project-2'"
      ]
     },
     "execution_count": 2,
     "metadata": {},
     "output_type": "execute_result"
    }
   ],
   "source": [
    "# make sure working directory is root of repository\n",
    "%pwd"
   ]
  },
  {
   "cell_type": "code",
   "execution_count": 3,
   "metadata": {},
   "outputs": [],
   "source": [
    "from shopping_environment import ShoppingEnvironment"
   ]
  },
  {
   "cell_type": "markdown",
   "metadata": {},
   "source": [
    "## Setup Environment"
   ]
  },
  {
   "cell_type": "code",
   "execution_count": 4,
   "metadata": {},
   "outputs": [],
   "source": [
    "# parameters\n",
    "num_shoes        = 100\n",
    "\n",
    "# number of each consumer type\n",
    "num_average     = 900\n",
    "num_abnormal    = 100\n",
    "num_special     = 25\n",
    "num_wealthy     = 100\n",
    "num_influencers = 50\n",
    "num_resellers   = 25\n",
    "\n",
    "# initialize environment\n",
    "env = ShoppingEnvironment(\n",
    "    mean_desire = 0.5,\n",
    "    std_desire = 0.2,\n",
    "    desire_threshold = 0.7,\n",
    "    average_mean_money = 250,\n",
    "    average_std_money = 15,\n",
    "    rich_mean_money = 1000,\n",
    "    rich_std_money = 250,\n",
    "    average_prob_loyal = 0.5,\n",
    "    rich_prob_loyal = 0.8,\n",
    "    reseller_prob_loyal = 0.9,\n",
    "    num_shoes = num_shoes,\n",
    "    price = 250,\n",
    "    num_average = num_average,\n",
    "    num_abnormal = num_abnormal,\n",
    "    num_special = num_special,\n",
    "    num_wealthy = num_wealthy,\n",
    "    num_influencers = num_influencers,\n",
    "    num_resellers = num_resellers\n",
    ")"
   ]
  },
  {
   "cell_type": "code",
   "execution_count": 8,
   "metadata": {},
   "outputs": [],
   "source": [
    "def get_utilities(df):\n",
    "    # code to get buyer and seller utility for each simulation\n",
    "    got_shoes = df[df['shoes_acquired'] >= 1]\n",
    "    print(\"Consumer utility: \", got_shoes['desire'].mean())     # buyer utility is average desire of those who purchased shoes\n",
    "    print(\"Seller utility: \", got_shoes['influence'].mean())    # seller utility is average influence of those who purchased shoes "
   ]
  },
  {
   "cell_type": "markdown",
   "metadata": {},
   "source": [
    "## No Gaming"
   ]
  },
  {
   "cell_type": "markdown",
   "metadata": {},
   "source": [
    "### Lottery\n",
    "Every consumer has an equal chance of being selected to purchase shoes"
   ]
  },
  {
   "cell_type": "code",
   "execution_count": 5,
   "metadata": {},
   "outputs": [
    {
     "data": {
      "text/html": [
       "<div>\n",
       "<style scoped>\n",
       "    .dataframe tbody tr th:only-of-type {\n",
       "        vertical-align: middle;\n",
       "    }\n",
       "\n",
       "    .dataframe tbody tr th {\n",
       "        vertical-align: top;\n",
       "    }\n",
       "\n",
       "    .dataframe thead th {\n",
       "        text-align: right;\n",
       "    }\n",
       "</style>\n",
       "<table border=\"1\" class=\"dataframe\">\n",
       "  <thead>\n",
       "    <tr style=\"text-align: right;\">\n",
       "      <th></th>\n",
       "      <th>abnormal_size</th>\n",
       "      <th>desire</th>\n",
       "      <th>num_shoes_want</th>\n",
       "      <th>money</th>\n",
       "      <th>identity</th>\n",
       "      <th>has_loyalty</th>\n",
       "      <th>influence</th>\n",
       "      <th>shoes_acquired</th>\n",
       "    </tr>\n",
       "  </thead>\n",
       "  <tbody>\n",
       "    <tr>\n",
       "      <th>0</th>\n",
       "      <td>False</td>\n",
       "      <td>0.298876</td>\n",
       "      <td>1</td>\n",
       "      <td>254.814311</td>\n",
       "      <td>average</td>\n",
       "      <td>True</td>\n",
       "      <td>0.0</td>\n",
       "      <td>0</td>\n",
       "    </tr>\n",
       "    <tr>\n",
       "      <th>1</th>\n",
       "      <td>False</td>\n",
       "      <td>0.315668</td>\n",
       "      <td>1</td>\n",
       "      <td>246.349238</td>\n",
       "      <td>average</td>\n",
       "      <td>False</td>\n",
       "      <td>0.0</td>\n",
       "      <td>0</td>\n",
       "    </tr>\n",
       "    <tr>\n",
       "      <th>2</th>\n",
       "      <td>False</td>\n",
       "      <td>0.318450</td>\n",
       "      <td>2</td>\n",
       "      <td>252.962975</td>\n",
       "      <td>average</td>\n",
       "      <td>False</td>\n",
       "      <td>0.0</td>\n",
       "      <td>0</td>\n",
       "    </tr>\n",
       "    <tr>\n",
       "      <th>3</th>\n",
       "      <td>False</td>\n",
       "      <td>0.567981</td>\n",
       "      <td>1</td>\n",
       "      <td>263.010749</td>\n",
       "      <td>average</td>\n",
       "      <td>False</td>\n",
       "      <td>0.0</td>\n",
       "      <td>1</td>\n",
       "    </tr>\n",
       "    <tr>\n",
       "      <th>4</th>\n",
       "      <td>False</td>\n",
       "      <td>0.863857</td>\n",
       "      <td>1</td>\n",
       "      <td>233.075531</td>\n",
       "      <td>average</td>\n",
       "      <td>True</td>\n",
       "      <td>0.0</td>\n",
       "      <td>0</td>\n",
       "    </tr>\n",
       "    <tr>\n",
       "      <th>...</th>\n",
       "      <td>...</td>\n",
       "      <td>...</td>\n",
       "      <td>...</td>\n",
       "      <td>...</td>\n",
       "      <td>...</td>\n",
       "      <td>...</td>\n",
       "      <td>...</td>\n",
       "      <td>...</td>\n",
       "    </tr>\n",
       "    <tr>\n",
       "      <th>1195</th>\n",
       "      <td>False</td>\n",
       "      <td>0.000000</td>\n",
       "      <td>100</td>\n",
       "      <td>100000.000000</td>\n",
       "      <td>reseller</td>\n",
       "      <td>True</td>\n",
       "      <td>0.5</td>\n",
       "      <td>0</td>\n",
       "    </tr>\n",
       "    <tr>\n",
       "      <th>1196</th>\n",
       "      <td>False</td>\n",
       "      <td>0.000000</td>\n",
       "      <td>100</td>\n",
       "      <td>100000.000000</td>\n",
       "      <td>reseller</td>\n",
       "      <td>True</td>\n",
       "      <td>0.5</td>\n",
       "      <td>2</td>\n",
       "    </tr>\n",
       "    <tr>\n",
       "      <th>1197</th>\n",
       "      <td>False</td>\n",
       "      <td>0.000000</td>\n",
       "      <td>100</td>\n",
       "      <td>100000.000000</td>\n",
       "      <td>reseller</td>\n",
       "      <td>True</td>\n",
       "      <td>0.5</td>\n",
       "      <td>0</td>\n",
       "    </tr>\n",
       "    <tr>\n",
       "      <th>1198</th>\n",
       "      <td>False</td>\n",
       "      <td>0.000000</td>\n",
       "      <td>100</td>\n",
       "      <td>100000.000000</td>\n",
       "      <td>reseller</td>\n",
       "      <td>True</td>\n",
       "      <td>0.5</td>\n",
       "      <td>0</td>\n",
       "    </tr>\n",
       "    <tr>\n",
       "      <th>1199</th>\n",
       "      <td>False</td>\n",
       "      <td>0.000000</td>\n",
       "      <td>100</td>\n",
       "      <td>100000.000000</td>\n",
       "      <td>reseller</td>\n",
       "      <td>True</td>\n",
       "      <td>0.5</td>\n",
       "      <td>0</td>\n",
       "    </tr>\n",
       "  </tbody>\n",
       "</table>\n",
       "<p>1200 rows × 8 columns</p>\n",
       "</div>"
      ],
      "text/plain": [
       "      abnormal_size    desire  num_shoes_want          money  identity  \\\n",
       "0             False  0.298876               1     254.814311   average   \n",
       "1             False  0.315668               1     246.349238   average   \n",
       "2             False  0.318450               2     252.962975   average   \n",
       "3             False  0.567981               1     263.010749   average   \n",
       "4             False  0.863857               1     233.075531   average   \n",
       "...             ...       ...             ...            ...       ...   \n",
       "1195          False  0.000000             100  100000.000000  reseller   \n",
       "1196          False  0.000000             100  100000.000000  reseller   \n",
       "1197          False  0.000000             100  100000.000000  reseller   \n",
       "1198          False  0.000000             100  100000.000000  reseller   \n",
       "1199          False  0.000000             100  100000.000000  reseller   \n",
       "\n",
       "      has_loyalty  influence  shoes_acquired  \n",
       "0            True        0.0               0  \n",
       "1           False        0.0               0  \n",
       "2           False        0.0               0  \n",
       "3           False        0.0               1  \n",
       "4            True        0.0               0  \n",
       "...           ...        ...             ...  \n",
       "1195         True        0.5               0  \n",
       "1196         True        0.5               2  \n",
       "1197         True        0.5               0  \n",
       "1198         True        0.5               0  \n",
       "1199         True        0.5               0  \n",
       "\n",
       "[1200 rows x 8 columns]"
      ]
     },
     "execution_count": 5,
     "metadata": {},
     "output_type": "execute_result"
    }
   ],
   "source": [
    "env.run_lottery_no_gaming()  # run lottery and get dataframe of all results\n",
    "df = env.get_consumer_df()\n",
    "df"
   ]
  },
  {
   "cell_type": "code",
   "execution_count": 9,
   "metadata": {},
   "outputs": [
    {
     "name": "stdout",
     "output_type": "stream",
     "text": [
      "Consumer utility:  0.89591583582701\n",
      "Seller utility:  0.09333333333333334\n"
     ]
    }
   ],
   "source": [
    "get_utilities(df)"
   ]
  },
  {
   "cell_type": "markdown",
   "metadata": {},
   "source": [
    "### First Come First Served\n",
    "With no gaming, those with highest desire \"come first\", and so those with the most desire get the sheos"
   ]
  },
  {
   "cell_type": "code",
   "execution_count": 14,
   "metadata": {},
   "outputs": [
    {
     "name": "stdout",
     "output_type": "stream",
     "text": [
      "Consumer utility:  0.89591583582701\n",
      "Seller utility:  0.09333333333333334\n"
     ]
    }
   ],
   "source": [
    "env.restock(num_shoes = 100)        # reset environment to 100 shoes with no one purchased yet\n",
    "env.run_first_come_no_gaming()\n",
    "df = env.get_consumer_df()\n",
    "get_utilities(df)"
   ]
  },
  {
   "cell_type": "markdown",
   "metadata": {},
   "source": [
    "### Invitation Only\n",
    "All influencers are invited, and the rest of the spots are randomly selected from those with loyalty status"
   ]
  },
  {
   "cell_type": "code",
   "execution_count": 15,
   "metadata": {},
   "outputs": [
    {
     "name": "stdout",
     "output_type": "stream",
     "text": [
      "Consumer utility:  0.493026200730278\n",
      "Seller utility:  0.6794871794871795\n"
     ]
    }
   ],
   "source": [
    "env.restock(num_shoes = 100)\n",
    "env.run_invitation_no_gaming()\n",
    "df = env.get_consumer_df()\n",
    "get_utilities(df)"
   ]
  }
 ],
 "metadata": {
  "interpreter": {
   "hash": "c95010c0e5c171f3e5e09fa076e7f36c98e4d445f827275ff8a77a98834e383e"
  },
  "kernelspec": {
   "display_name": "Python 3.10.2 ('.venv': poetry)",
   "language": "python",
   "name": "python3"
  },
  "language_info": {
   "codemirror_mode": {
    "name": "ipython",
    "version": 3
   },
   "file_extension": ".py",
   "mimetype": "text/x-python",
   "name": "python",
   "nbconvert_exporter": "python",
   "pygments_lexer": "ipython3",
   "version": "3.10.2"
  },
  "orig_nbformat": 4
 },
 "nbformat": 4,
 "nbformat_minor": 2
}
