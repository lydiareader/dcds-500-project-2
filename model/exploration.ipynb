{
 "cells": [
  {
   "cell_type": "code",
   "execution_count": 5,
   "metadata": {},
   "outputs": [],
   "source": [
    "import consumer\n",
    "from shopping_environment import ShoppingEnvironment\n",
    "import pandas as pd\n",
    "from mechanisms import run_lottery_no_gaming"
   ]
  },
  {
   "cell_type": "markdown",
   "metadata": {},
   "source": [
    "## Setup Environment"
   ]
  },
  {
   "cell_type": "code",
   "execution_count": 1,
   "metadata": {},
   "outputs": [],
   "source": [
    "# parameters\n",
    "num_shoes        = 100\n",
    "\n",
    "# number of each consumer type\n",
    "num_average     = 900\n",
    "num_abnormal    = 100\n",
    "num_special     = 25\n",
    "num_wealthy     = 100\n",
    "num_influencers = 50\n",
    "num_resellers   = 25\n",
    "\n",
    "# initialize environment\n",
    "env = ShoppingEnvironment(\n",
    "    mean_desire = 0.5,\n",
    "    std_desire = 0.2,\n",
    "    desire_threshold = 0.7,\n",
    "    average_mean_money = 250,\n",
    "    average_std_money = 15,\n",
    "    rich_mean_money = 1000,\n",
    "    rich_std_money = 250,\n",
    "    average_prob_loyal = 0.5,\n",
    "    rich_prob_loyal = 0.8,\n",
    "    reseller_prob_loyal = 0.9,\n",
    "    num_shoes = num_shoes,\n",
    "    price = 250\n",
    ")\n",
    "\n",
    "# create consumers\n",
    "average_consumers    = [consumer.AverageConsumer(env) for _ in range(num_average)]\n",
    "abnormal_consumers   = [consumer.AbnormalConsumer(env) for _ in range(num_abnormal)]\n",
    "special_consumers    = [consumer.SpecialConsumer(env) for _ in range(num_special)]\n",
    "wealthy_consumers    = [consumer.WealthyConsumer(env) for _ in range(num_wealthy)]\n",
    "influencer_consumers = [consumer.InfluencerConsumer(env) for _ in range(num_influencers)]\n",
    "reseller_consumers   = [consumer.ResellerConsumer(env) for _ in range(num_resellers)]\n",
    "\n",
    "consumers = average_consumers + abnormal_consumers + special_consumers + wealthy_consumers + influencer_consumers + reseller_consumers"
   ]
  },
  {
   "cell_type": "markdown",
   "metadata": {},
   "source": [
    "### Run Lottery"
   ]
  },
  {
   "cell_type": "code",
   "execution_count": null,
   "metadata": {},
   "outputs": [],
   "source": [
    "df = run_lottery_no_gaming(consumers)"
   ]
  },
  {
   "cell_type": "code",
   "execution_count": 3,
   "metadata": {},
   "outputs": [
    {
     "data": {
      "text/html": [
       "<div>\n",
       "<style scoped>\n",
       "    .dataframe tbody tr th:only-of-type {\n",
       "        vertical-align: middle;\n",
       "    }\n",
       "\n",
       "    .dataframe tbody tr th {\n",
       "        vertical-align: top;\n",
       "    }\n",
       "\n",
       "    .dataframe thead th {\n",
       "        text-align: right;\n",
       "    }\n",
       "</style>\n",
       "<table border=\"1\" class=\"dataframe\">\n",
       "  <thead>\n",
       "    <tr style=\"text-align: right;\">\n",
       "      <th></th>\n",
       "      <th>desire</th>\n",
       "      <th>identity</th>\n",
       "      <th>shoes_acquired</th>\n",
       "    </tr>\n",
       "  </thead>\n",
       "  <tbody>\n",
       "    <tr>\n",
       "      <th>6</th>\n",
       "      <td>0.451613</td>\n",
       "      <td>average</td>\n",
       "      <td>2</td>\n",
       "    </tr>\n",
       "    <tr>\n",
       "      <th>24</th>\n",
       "      <td>0.272066</td>\n",
       "      <td>average</td>\n",
       "      <td>1</td>\n",
       "    </tr>\n",
       "    <tr>\n",
       "      <th>27</th>\n",
       "      <td>0.667744</td>\n",
       "      <td>average</td>\n",
       "      <td>1</td>\n",
       "    </tr>\n",
       "    <tr>\n",
       "      <th>41</th>\n",
       "      <td>0.642740</td>\n",
       "      <td>average</td>\n",
       "      <td>2</td>\n",
       "    </tr>\n",
       "    <tr>\n",
       "      <th>56</th>\n",
       "      <td>0.688665</td>\n",
       "      <td>average</td>\n",
       "      <td>1</td>\n",
       "    </tr>\n",
       "    <tr>\n",
       "      <th>...</th>\n",
       "      <td>...</td>\n",
       "      <td>...</td>\n",
       "      <td>...</td>\n",
       "    </tr>\n",
       "    <tr>\n",
       "      <th>1125</th>\n",
       "      <td>0.502517</td>\n",
       "      <td>influencer</td>\n",
       "      <td>1</td>\n",
       "    </tr>\n",
       "    <tr>\n",
       "      <th>1130</th>\n",
       "      <td>0.800037</td>\n",
       "      <td>influencer</td>\n",
       "      <td>2</td>\n",
       "    </tr>\n",
       "    <tr>\n",
       "      <th>1166</th>\n",
       "      <td>0.302997</td>\n",
       "      <td>influencer</td>\n",
       "      <td>1</td>\n",
       "    </tr>\n",
       "    <tr>\n",
       "      <th>1171</th>\n",
       "      <td>0.634968</td>\n",
       "      <td>influencer</td>\n",
       "      <td>1</td>\n",
       "    </tr>\n",
       "    <tr>\n",
       "      <th>1185</th>\n",
       "      <td>0.000000</td>\n",
       "      <td>reseller</td>\n",
       "      <td>2</td>\n",
       "    </tr>\n",
       "  </tbody>\n",
       "</table>\n",
       "<p>76 rows × 3 columns</p>\n",
       "</div>"
      ],
      "text/plain": [
       "        desire    identity  shoes_acquired\n",
       "6     0.451613     average               2\n",
       "24    0.272066     average               1\n",
       "27    0.667744     average               1\n",
       "41    0.642740     average               2\n",
       "56    0.688665     average               1\n",
       "...        ...         ...             ...\n",
       "1125  0.502517  influencer               1\n",
       "1130  0.800037  influencer               2\n",
       "1166  0.302997  influencer               1\n",
       "1171  0.634968  influencer               1\n",
       "1185  0.000000    reseller               2\n",
       "\n",
       "[76 rows x 3 columns]"
      ]
     },
     "execution_count": 3,
     "metadata": {},
     "output_type": "execute_result"
    }
   ],
   "source": [
    "df[df['shoes_acquired'] >= 1]"
   ]
  },
  {
   "cell_type": "code",
   "execution_count": 4,
   "metadata": {},
   "outputs": [
    {
     "data": {
      "text/plain": [
       "100"
      ]
     },
     "execution_count": 4,
     "metadata": {},
     "output_type": "execute_result"
    }
   ],
   "source": [
    "sum(df['shoes_acquired'])"
   ]
  },
  {
   "cell_type": "code",
   "execution_count": null,
   "metadata": {},
   "outputs": [],
   "source": []
  }
 ],
 "metadata": {
  "interpreter": {
   "hash": "c95010c0e5c171f3e5e09fa076e7f36c98e4d445f827275ff8a77a98834e383e"
  },
  "kernelspec": {
   "display_name": "Python 3.10.2 ('.venv': poetry)",
   "language": "python",
   "name": "python3"
  },
  "language_info": {
   "codemirror_mode": {
    "name": "ipython",
    "version": 3
   },
   "file_extension": ".py",
   "mimetype": "text/x-python",
   "name": "python",
   "nbconvert_exporter": "python",
   "pygments_lexer": "ipython3",
   "version": "3.10.2"
  },
  "orig_nbformat": 4
 },
 "nbformat": 4,
 "nbformat_minor": 2
}
